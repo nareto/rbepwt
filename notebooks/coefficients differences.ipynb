{
 "cells": [
  {
   "cell_type": "code",
   "execution_count": 42,
   "metadata": {
    "collapsed": false
   },
   "outputs": [],
   "source": [
    "import pandas as pd\n",
    "import numpy as np\n",
    "import matplotlib.pyplot as plt\n",
    "import rbepwt"
   ]
  },
  {
   "cell_type": "code",
   "execution_count": 50,
   "metadata": {
    "collapsed": false
   },
   "outputs": [],
   "source": [
    "g102 = rbepwt.Image()\n",
    "g103 = rbepwt.Image()\n",
    "g102.load('../pickled/gradient64-8levels')\n",
    "g103.load('../pickled/gradient64-8levels')\n",
    "g102.rbepwt.threshold_coefs(102)\n",
    "g103.rbepwt.threshold_coefs(103)\n",
    "wd102=g102.rbepwt.flat_wavelet()\n",
    "wd103=g103.rbepwt.flat_wavelet()"
   ]
  },
  {
   "cell_type": "code",
   "execution_count": 53,
   "metadata": {
    "collapsed": false
   },
   "outputs": [
    {
     "name": "stdout",
     "output_type": "stream",
     "text": [
      "level:  8\tindex:    0\tvalue1: 0.000000\tvalue2: -131.913874\n"
     ]
    }
   ],
   "source": [
    "wddict1 = g102.rbepwt.wavelet_coefs_dict()\n",
    "wddict2 = g103.rbepwt.wavelet_coefs_dict()\n",
    "rbepwt.compare_wavelet_dicts(wddict1,wddict2)"
   ]
  },
  {
   "cell_type": "code",
   "execution_count": 57,
   "metadata": {
    "collapsed": false
   },
   "outputs": [
    {
     "data": {
      "text/plain": [
       "array([-131.91387405,    0.        ,    0.        ,    0.        ,\n",
       "          0.        ,    0.        ,    0.        ,    0.        ,\n",
       "          0.        ,    0.        , -249.44739124,    0.        ,\n",
       "          0.        ,    0.        ,  275.60973575, -247.90148409])"
      ]
     },
     "execution_count": 57,
     "metadata": {},
     "output_type": "execute_result"
    }
   ],
   "source": [
    "wddict2[8]"
   ]
  }
 ],
 "metadata": {
  "kernelspec": {
   "display_name": "Python 3",
   "language": "python",
   "name": "python3"
  },
  "language_info": {
   "codemirror_mode": {
    "name": "ipython",
    "version": 3
   },
   "file_extension": ".py",
   "mimetype": "text/x-python",
   "name": "python",
   "nbconvert_exporter": "python",
   "pygments_lexer": "ipython3",
   "version": "3.5.1"
  }
 },
 "nbformat": 4,
 "nbformat_minor": 0
}
